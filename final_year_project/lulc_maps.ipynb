{
 "cells": [
  {
   "cell_type": "code",
   "execution_count": null,
   "id": "d130cc40",
   "metadata": {},
   "outputs": [],
   "source": [
    "# North arrow & scale bar \n",
    "north_arrow(ax, location=\"upper right\", rotation={\"crs\": gdf.crs, \"reference\": \"center\"}) \n",
    "scale_bar( \n",
    "    ax, location=\"lower right\", \n",
    "    style=\"boxes\", bar={\"projection\": gdf.crs}, \n",
    "    units={\"loc\": \"bar\", \"fontsize\": 10, \"fontweight\": \"bold\"}, \n",
    "    labels={ \"fontsize\": 8, \"fontweight\": \"bold\" }, )"
   ]
  }
 ],
 "metadata": {
  "kernelspec": {
   "display_name": "gis_python",
   "language": "python",
   "name": "python3"
  },
  "language_info": {
   "name": "python",
   "version": "3.12.9"
  }
 },
 "nbformat": 4,
 "nbformat_minor": 5
}
